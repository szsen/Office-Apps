{
  "nbformat": 4,
  "nbformat_minor": 0,
  "metadata": {
    "colab": {
      "name": "Week 2",
      "provenance": [],
      "authorship_tag": "ABX9TyMaz0rv8KQsrbPmGoQNFwhK",
      "include_colab_link": true
    },
    "kernelspec": {
      "name": "python3",
      "display_name": "Python 3"
    }
  },
  "cells": [
    {
      "cell_type": "markdown",
      "metadata": {
        "id": "view-in-github",
        "colab_type": "text"
      },
      "source": [
        "<a href=\"https://colab.research.google.com/github/szsen/Office-Apps/blob/master/Week_2.ipynb\" target=\"_parent\"><img src=\"https://colab.research.google.com/assets/colab-badge.svg\" alt=\"Open In Colab\"/></a>"
      ]
    },
    {
      "cell_type": "code",
      "metadata": {
        "id": "CycAjtBCARDx",
        "colab_type": "code",
        "colab": {}
      },
      "source": [
        "def PatternCount(Pattern, Text):\n",
        "    count = 0\n",
        "    for i in range(len(Text)-len(Pattern)+1):\n",
        "        if Text[i:i+len(Pattern)] == Pattern:\n",
        "            count += 1\n",
        "    return count "
      ],
      "execution_count": 0,
      "outputs": []
    },
    {
      "cell_type": "markdown",
      "metadata": {
        "id": "nJTafLlMODwx",
        "colab_type": "text"
      },
      "source": [
        "Symbol Array takes in a Genome, creates the Extended Genome to search since it is circular, and finds the occurrence of the symbol at index i in the window length."
      ]
    },
    {
      "cell_type": "code",
      "metadata": {
        "id": "QQF1uVmBOCnb",
        "colab_type": "code",
        "colab": {}
      },
      "source": [
        "def SymbolArray(Genome, symbol):\n",
        "    array = {}\n",
        "    n = len(Genome)\n",
        "    ExtendedGenome = Genome + Genome[0:n//2]\n",
        "    for i in range(n):\n",
        "        array[i] = PatternCount(symbol, ExtendedGenome[i:i+(n//2)])\n",
        "    return array"
      ],
      "execution_count": 0,
      "outputs": []
    },
    {
      "cell_type": "code",
      "metadata": {
        "id": "qND9Hw3_PnaW",
        "colab_type": "code",
        "outputId": "8a71d8b0-725e-4932-e919-d4edf7891c8b",
        "colab": {
          "base_uri": "https://localhost:8080/",
          "height": 34
        }
      },
      "source": [
        "gen = 'AAAAGGGG'\n",
        "SymbolArray(gen, 'A')"
      ],
      "execution_count": 0,
      "outputs": [
        {
          "output_type": "execute_result",
          "data": {
            "text/plain": [
              "{0: 4, 1: 3, 2: 2, 3: 1, 4: 0, 5: 1, 6: 2, 7: 3}"
            ]
          },
          "metadata": {
            "tags": []
          },
          "execution_count": 5
        }
      ]
    },
    {
      "cell_type": "code",
      "metadata": {
        "id": "Fo278pGuQciw",
        "colab_type": "code",
        "colab": {}
      },
      "source": [
        "ecolo"
      ],
      "execution_count": 0,
      "outputs": []
    }
  ]
}